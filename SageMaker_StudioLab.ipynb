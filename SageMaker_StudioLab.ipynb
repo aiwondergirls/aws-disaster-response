{
  "cells": [
    {
      "cell_type": "markdown",
      "metadata": {
        "id": "x8mIpJbDyZCS"
      },
      "source": [
        "# INSTRUCTIONS TO OPEN THIS PROJECT IN AMAZON SAGEMAKER STUDIO LAB\n",
        "* Please click on this button to open this project in SageMaker Studio Lab <br>\n",
        "[![Open In SageMaker Studio Lab](https://studiolab.sagemaker.aws/studiolab.svg)](https://studiolab.sagemaker.aws/import/github/aiwondergirls/aws-disaster-response/blob/main/SageMaker-StudioLab.ipynb)\n",
        "* Start the runtime and click on \"Copy To Project\" button.\n",
        "* Clone this repository using \"Clone Entire Repo\" option.\n",
        "* Path for the notebook that trains the model to predict the number of affected people in an earthquake - ***aws-disaster-response/affected_model/models/***\n",
        "* Path for chatbots training notebook - ***aws-disaster-response/nlpmodel/chatbot-training-notebook/***"
      ]
    }
  ],
  "metadata": {
    "kernelspec": {
      "display_name": "Python 3",
      "language": "python",
      "name": "python3"
    },
    "language_info": {
      "codemirror_mode": {
        "name": "ipython",
        "version": 3
      },
      "file_extension": ".py",
      "mimetype": "text/x-python",
      "name": "python",
      "nbconvert_exporter": "python",
      "pygments_lexer": "ipython3",
      "version": "3.7.6"
    },
    "colab": {
      "name": "SageMaker-StudioLab.ipynb",
      "provenance": []
    }
  },
  "nbformat": 4,
  "nbformat_minor": 0
}