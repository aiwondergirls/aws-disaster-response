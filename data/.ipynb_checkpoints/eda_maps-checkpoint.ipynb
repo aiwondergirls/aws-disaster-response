{
 "cells": [
  {
   "cell_type": "code",
   "execution_count": 1,
   "metadata": {},
   "outputs": [],
   "source": [
    "#pip install folium\n",
    "#pip install geopy\n",
    "#pip install pycountry-convert  #probably not needed"
   ]
  },
  {
   "cell_type": "code",
   "execution_count": 2,
   "metadata": {},
   "outputs": [],
   "source": [
    "import pandas as pd\n",
    "import geopandas as gpd\n",
    "import folium "
   ]
  },
  {
   "cell_type": "code",
   "execution_count": 15,
   "metadata": {},
   "outputs": [],
   "source": [
    "from geopy.geocoders import Nominatim"
   ]
  },
  {
   "cell_type": "code",
   "execution_count": null,
   "metadata": {},
   "outputs": [],
   "source": [
    "#from pycountry_convert import country_alpha2_to_continent_code, country_name_to_country_alpha2 #probably not needed "
   ]
  },
  {
   "cell_type": "code",
   "execution_count": 4,
   "metadata": {},
   "outputs": [],
   "source": [
    "from folium.plugins import MarkerCluster #to build an outlay for a world map in folium"
   ]
  },
  {
   "cell_type": "code",
   "execution_count": 3,
   "metadata": {},
   "outputs": [],
   "source": [
    "#countries data with polygon boundaries \n",
    "countries = gpd.read_file(\"ne_10m_admin_0_countries/ne_10m_admin_0_countries.shp\")\n"
   ]
  },
  {
   "cell_type": "code",
   "execution_count": 7,
   "metadata": {},
   "outputs": [],
   "source": [
    "df_data = pd.read_csv('df_merged_all.csv',sep=',')"
   ]
  },
  {
   "cell_type": "code",
   "execution_count": 10,
   "metadata": {},
   "outputs": [
    {
     "name": "stdout",
     "output_type": "stream",
     "text": [
      "Index(['Unnamed: 0', 'Year', 'country code', 'Continent', 'CPI', 'date',\n",
      "       'depth', 'mag', 'mmi',\n",
      "       'Population density (people per sq. km of land area)',\n",
      "       'Population growth (annual %)', 'Population in largest city',\n",
      "       'Population in the largest city (% of urban population)',\n",
      "       'Population, total', 'Rural population',\n",
      "       'Rural population (% of total population)', 'Urban population',\n",
      "       'Urban population (% of total population)',\n",
      "       'Urban population growth (annual %)', 'GDP (constant 2015 US$)',\n",
      "       'GDP (current US$)', 'GDP growth (annual %)',\n",
      "       'GDP per capita (constant 2015 US$)', 'country', 'Total Affected'],\n",
      "      dtype='object')\n"
     ]
    }
   ],
   "source": [
    "print(df_data.columns)"
   ]
  },
  {
   "cell_type": "code",
   "execution_count": 14,
   "metadata": {},
   "outputs": [
    {
     "data": {
      "text/html": [
       "<div>\n",
       "<style scoped>\n",
       "    .dataframe tbody tr th:only-of-type {\n",
       "        vertical-align: middle;\n",
       "    }\n",
       "\n",
       "    .dataframe tbody tr th {\n",
       "        vertical-align: top;\n",
       "    }\n",
       "\n",
       "    .dataframe thead th {\n",
       "        text-align: right;\n",
       "    }\n",
       "</style>\n",
       "<table border=\"1\" class=\"dataframe\">\n",
       "  <thead>\n",
       "    <tr style=\"text-align: right;\">\n",
       "      <th></th>\n",
       "      <th>Unnamed: 0</th>\n",
       "      <th>Year</th>\n",
       "      <th>country code</th>\n",
       "      <th>Continent</th>\n",
       "      <th>CPI</th>\n",
       "      <th>date</th>\n",
       "      <th>depth</th>\n",
       "      <th>mag</th>\n",
       "      <th>mmi</th>\n",
       "      <th>Population density (people per sq. km of land area)</th>\n",
       "      <th>...</th>\n",
       "      <th>Rural population (% of total population)</th>\n",
       "      <th>Urban population</th>\n",
       "      <th>Urban population (% of total population)</th>\n",
       "      <th>Urban population growth (annual %)</th>\n",
       "      <th>GDP (constant 2015 US$)</th>\n",
       "      <th>GDP (current US$)</th>\n",
       "      <th>GDP growth (annual %)</th>\n",
       "      <th>GDP per capita (constant 2015 US$)</th>\n",
       "      <th>country</th>\n",
       "      <th>Total Affected</th>\n",
       "    </tr>\n",
       "  </thead>\n",
       "  <tbody>\n",
       "    <tr>\n",
       "      <th>0</th>\n",
       "      <td>0</td>\n",
       "      <td>1960</td>\n",
       "      <td>CHL</td>\n",
       "      <td>Americas</td>\n",
       "      <td>11.427251</td>\n",
       "      <td>1960-05-22</td>\n",
       "      <td>25.0</td>\n",
       "      <td>9.5</td>\n",
       "      <td>8.842</td>\n",
       "      <td>..</td>\n",
       "      <td>...</td>\n",
       "      <td>32.164</td>\n",
       "      <td>5517094</td>\n",
       "      <td>67.836</td>\n",
       "      <td>..</td>\n",
       "      <td>27084687058.6456</td>\n",
       "      <td>4110000000</td>\n",
       "      <td>..</td>\n",
       "      <td>3330.22587253855</td>\n",
       "      <td>Chile</td>\n",
       "      <td>2003000.0</td>\n",
       "    </tr>\n",
       "    <tr>\n",
       "      <th>1</th>\n",
       "      <td>1</td>\n",
       "      <td>1960</td>\n",
       "      <td>CHL</td>\n",
       "      <td>Americas</td>\n",
       "      <td>11.427251</td>\n",
       "      <td>1960-05-22</td>\n",
       "      <td>25.0</td>\n",
       "      <td>7.8</td>\n",
       "      <td>7.274</td>\n",
       "      <td>..</td>\n",
       "      <td>...</td>\n",
       "      <td>32.164</td>\n",
       "      <td>5517094</td>\n",
       "      <td>67.836</td>\n",
       "      <td>..</td>\n",
       "      <td>27084687058.6456</td>\n",
       "      <td>4110000000</td>\n",
       "      <td>..</td>\n",
       "      <td>3330.22587253855</td>\n",
       "      <td>Chile</td>\n",
       "      <td>2003000.0</td>\n",
       "    </tr>\n",
       "    <tr>\n",
       "      <th>2</th>\n",
       "      <td>2</td>\n",
       "      <td>1960</td>\n",
       "      <td>CHL</td>\n",
       "      <td>Americas</td>\n",
       "      <td>11.427251</td>\n",
       "      <td>1960-05-22</td>\n",
       "      <td>25.0</td>\n",
       "      <td>6.8</td>\n",
       "      <td>6.925</td>\n",
       "      <td>..</td>\n",
       "      <td>...</td>\n",
       "      <td>32.164</td>\n",
       "      <td>5517094</td>\n",
       "      <td>67.836</td>\n",
       "      <td>..</td>\n",
       "      <td>27084687058.6456</td>\n",
       "      <td>4110000000</td>\n",
       "      <td>..</td>\n",
       "      <td>3330.22587253855</td>\n",
       "      <td>Chile</td>\n",
       "      <td>2003000.0</td>\n",
       "    </tr>\n",
       "    <tr>\n",
       "      <th>3</th>\n",
       "      <td>3</td>\n",
       "      <td>1960</td>\n",
       "      <td>CHL</td>\n",
       "      <td>Americas</td>\n",
       "      <td>11.427251</td>\n",
       "      <td>1960-05-22</td>\n",
       "      <td>25.0</td>\n",
       "      <td>7.1</td>\n",
       "      <td>7.112</td>\n",
       "      <td>..</td>\n",
       "      <td>...</td>\n",
       "      <td>32.164</td>\n",
       "      <td>5517094</td>\n",
       "      <td>67.836</td>\n",
       "      <td>..</td>\n",
       "      <td>27084687058.6456</td>\n",
       "      <td>4110000000</td>\n",
       "      <td>..</td>\n",
       "      <td>3330.22587253855</td>\n",
       "      <td>Chile</td>\n",
       "      <td>2003000.0</td>\n",
       "    </tr>\n",
       "    <tr>\n",
       "      <th>4</th>\n",
       "      <td>4</td>\n",
       "      <td>1960</td>\n",
       "      <td>CHL</td>\n",
       "      <td>Americas</td>\n",
       "      <td>11.427251</td>\n",
       "      <td>1960-05-22</td>\n",
       "      <td>25.0</td>\n",
       "      <td>5.8</td>\n",
       "      <td>5.841</td>\n",
       "      <td>..</td>\n",
       "      <td>...</td>\n",
       "      <td>32.164</td>\n",
       "      <td>5517094</td>\n",
       "      <td>67.836</td>\n",
       "      <td>..</td>\n",
       "      <td>27084687058.6456</td>\n",
       "      <td>4110000000</td>\n",
       "      <td>..</td>\n",
       "      <td>3330.22587253855</td>\n",
       "      <td>Chile</td>\n",
       "      <td>2003000.0</td>\n",
       "    </tr>\n",
       "  </tbody>\n",
       "</table>\n",
       "<p>5 rows × 25 columns</p>\n",
       "</div>"
      ],
      "text/plain": [
       "   Unnamed: 0  Year country code Continent        CPI        date  depth  mag  \\\n",
       "0           0  1960          CHL  Americas  11.427251  1960-05-22   25.0  9.5   \n",
       "1           1  1960          CHL  Americas  11.427251  1960-05-22   25.0  7.8   \n",
       "2           2  1960          CHL  Americas  11.427251  1960-05-22   25.0  6.8   \n",
       "3           3  1960          CHL  Americas  11.427251  1960-05-22   25.0  7.1   \n",
       "4           4  1960          CHL  Americas  11.427251  1960-05-22   25.0  5.8   \n",
       "\n",
       "     mmi Population density (people per sq. km of land area)  ...  \\\n",
       "0  8.842                                                 ..   ...   \n",
       "1  7.274                                                 ..   ...   \n",
       "2  6.925                                                 ..   ...   \n",
       "3  7.112                                                 ..   ...   \n",
       "4  5.841                                                 ..   ...   \n",
       "\n",
       "  Rural population (% of total population) Urban population  \\\n",
       "0                                   32.164          5517094   \n",
       "1                                   32.164          5517094   \n",
       "2                                   32.164          5517094   \n",
       "3                                   32.164          5517094   \n",
       "4                                   32.164          5517094   \n",
       "\n",
       "  Urban population (% of total population)  \\\n",
       "0                                   67.836   \n",
       "1                                   67.836   \n",
       "2                                   67.836   \n",
       "3                                   67.836   \n",
       "4                                   67.836   \n",
       "\n",
       "   Urban population growth (annual %)  GDP (constant 2015 US$)  \\\n",
       "0                                  ..         27084687058.6456   \n",
       "1                                  ..         27084687058.6456   \n",
       "2                                  ..         27084687058.6456   \n",
       "3                                  ..         27084687058.6456   \n",
       "4                                  ..         27084687058.6456   \n",
       "\n",
       "   GDP (current US$)  GDP growth (annual %)  \\\n",
       "0         4110000000                     ..   \n",
       "1         4110000000                     ..   \n",
       "2         4110000000                     ..   \n",
       "3         4110000000                     ..   \n",
       "4         4110000000                     ..   \n",
       "\n",
       "   GDP per capita (constant 2015 US$) country Total Affected  \n",
       "0                    3330.22587253855   Chile      2003000.0  \n",
       "1                    3330.22587253855   Chile      2003000.0  \n",
       "2                    3330.22587253855   Chile      2003000.0  \n",
       "3                    3330.22587253855   Chile      2003000.0  \n",
       "4                    3330.22587253855   Chile      2003000.0  \n",
       "\n",
       "[5 rows x 25 columns]"
      ]
     },
     "execution_count": 14,
     "metadata": {},
     "output_type": "execute_result"
    }
   ],
   "source": [
    "df_data.head()"
   ]
  },
  {
   "cell_type": "code",
   "execution_count": 16,
   "metadata": {},
   "outputs": [],
   "source": [
    "#empty map\n",
    "world_map= folium.Map(tiles=\"cartodbpositron\")"
   ]
  },
  {
   "cell_type": "code",
   "execution_count": 18,
   "metadata": {},
   "outputs": [],
   "source": [
    "app = Nominatim(user_agent=\"tutorial\")"
   ]
  },
  {
   "cell_type": "code",
   "execution_count": 26,
   "metadata": {},
   "outputs": [],
   "source": [
    "list_countries=list(df_data['country'])"
   ]
  },
  {
   "cell_type": "code",
   "execution_count": null,
   "metadata": {},
   "outputs": [],
   "source": [
    "for i in list_countries:\n",
    "    location=app.geocode(i).raw\n",
    "    #print(location)"
   ]
  },
  {
   "cell_type": "code",
   "execution_count": null,
   "metadata": {},
   "outputs": [],
   "source": []
  },
  {
   "cell_type": "code",
   "execution_count": 24,
   "metadata": {},
   "outputs": [
    {
     "name": "stdout",
     "output_type": "stream",
     "text": [
      "-31.7613365 -71.3187697\n"
     ]
    }
   ],
   "source": [
    "print(location['lat'],location['lon'])"
   ]
  },
  {
   "cell_type": "code",
   "execution_count": null,
   "metadata": {},
   "outputs": [],
   "source": []
  },
  {
   "cell_type": "code",
   "execution_count": null,
   "metadata": {},
   "outputs": [],
   "source": []
  },
  {
   "cell_type": "code",
   "execution_count": null,
   "metadata": {},
   "outputs": [],
   "source": []
  },
  {
   "cell_type": "code",
   "execution_count": null,
   "metadata": {},
   "outputs": [],
   "source": []
  },
  {
   "cell_type": "code",
   "execution_count": null,
   "metadata": {},
   "outputs": [],
   "source": []
  },
  {
   "cell_type": "code",
   "execution_count": null,
   "metadata": {},
   "outputs": [],
   "source": []
  },
  {
   "cell_type": "code",
   "execution_count": null,
   "metadata": {},
   "outputs": [],
   "source": []
  },
  {
   "cell_type": "code",
   "execution_count": null,
   "metadata": {},
   "outputs": [],
   "source": []
  },
  {
   "cell_type": "code",
   "execution_count": null,
   "metadata": {},
   "outputs": [],
   "source": []
  },
  {
   "cell_type": "code",
   "execution_count": null,
   "metadata": {},
   "outputs": [],
   "source": []
  },
  {
   "cell_type": "code",
   "execution_count": null,
   "metadata": {},
   "outputs": [],
   "source": []
  },
  {
   "cell_type": "code",
   "execution_count": null,
   "metadata": {},
   "outputs": [],
   "source": []
  },
  {
   "cell_type": "code",
   "execution_count": null,
   "metadata": {},
   "outputs": [],
   "source": []
  },
  {
   "cell_type": "code",
   "execution_count": null,
   "metadata": {},
   "outputs": [],
   "source": []
  },
  {
   "cell_type": "code",
   "execution_count": null,
   "metadata": {},
   "outputs": [],
   "source": []
  },
  {
   "cell_type": "code",
   "execution_count": null,
   "metadata": {},
   "outputs": [],
   "source": []
  },
  {
   "cell_type": "code",
   "execution_count": null,
   "metadata": {},
   "outputs": [],
   "source": []
  },
  {
   "cell_type": "code",
   "execution_count": null,
   "metadata": {},
   "outputs": [],
   "source": []
  },
  {
   "cell_type": "code",
   "execution_count": null,
   "metadata": {},
   "outputs": [],
   "source": []
  },
  {
   "cell_type": "code",
   "execution_count": null,
   "metadata": {},
   "outputs": [],
   "source": []
  },
  {
   "cell_type": "code",
   "execution_count": null,
   "metadata": {},
   "outputs": [],
   "source": []
  },
  {
   "cell_type": "code",
   "execution_count": null,
   "metadata": {},
   "outputs": [],
   "source": []
  },
  {
   "cell_type": "code",
   "execution_count": 77,
   "metadata": {},
   "outputs": [],
   "source": []
  },
  {
   "cell_type": "code",
   "execution_count": null,
   "metadata": {},
   "outputs": [],
   "source": []
  },
  {
   "cell_type": "code",
   "execution_count": null,
   "metadata": {},
   "outputs": [],
   "source": []
  },
  {
   "cell_type": "code",
   "execution_count": null,
   "metadata": {},
   "outputs": [],
   "source": []
  },
  {
   "cell_type": "code",
   "execution_count": 87,
   "metadata": {},
   "outputs": [],
   "source": []
  },
  {
   "cell_type": "code",
   "execution_count": null,
   "metadata": {},
   "outputs": [],
   "source": []
  },
  {
   "cell_type": "code",
   "execution_count": null,
   "metadata": {},
   "outputs": [],
   "source": []
  }
 ],
 "metadata": {
  "kernelspec": {
   "display_name": "Python 3",
   "language": "python",
   "name": "python3"
  },
  "language_info": {
   "codemirror_mode": {
    "name": "ipython",
    "version": 3
   },
   "file_extension": ".py",
   "mimetype": "text/x-python",
   "name": "python",
   "nbconvert_exporter": "python",
   "pygments_lexer": "ipython3",
   "version": "3.8.3"
  }
 },
 "nbformat": 4,
 "nbformat_minor": 4
}
