{
 "cells": [
  {
   "cell_type": "markdown",
   "metadata": {
    "id": "7kKoy9gRr-jz"
   },
   "source": [
    "# Data Extraction from World Bank API \n",
    "\n",
    "Scraping a list of World Bank Indicators.\n",
    "\n",
    "Needed input:\n",
    "* `indicators`: List of Indicators\n",
    "* `countries`: List of countries\n",
    "* `years`: List of years "
   ]
  },
  {
   "cell_type": "code",
   "execution_count": 1,
   "metadata": {
    "colab": {
     "base_uri": "https://localhost:8080/"
    },
    "id": "Vnk9uHb9VDDN",
    "outputId": "b18e2033-d716-41e3-ef05-fdceb6ac5937"
   },
   "outputs": [
    {
     "name": "stdout",
     "output_type": "stream",
     "text": [
      "Reading package lists... Done\n",
      "W: chmod 0700 of directory /var/lib/apt/lists/partial failed - SetupAPTPartialDirectory (1: Operation not permitted)\n",
      "E: Could not open lock file /var/lib/apt/lists/lock - open (13: Permission denied)\n",
      "E: Unable to lock directory /var/lib/apt/lists/\n",
      "W: Problem unlinking the file /var/cache/apt/pkgcache.bin - RemoveCaches (13: Permission denied)\n",
      "W: Problem unlinking the file /var/cache/apt/srcpkgcache.bin - RemoveCaches (13: Permission denied)\n",
      "E: Could not open lock file /var/lib/dpkg/lock-frontend - open (13: Permission denied)\n",
      "E: Unable to acquire the dpkg frontend lock (/var/lib/dpkg/lock-frontend), are you root?\n"
     ]
    }
   ],
   "source": [
    "!pip install -q world_bank_data\n",
    " \n",
    "# install chromium, its driver, and selenium\n",
    "!apt update\n",
    "\n",
    "# Handle this command with care, I(Priyam Mehta) tried it out but it requires chromium browser\n",
    "# not Chrome but chromium and was left with a broken package as chromium was not present in my system.\n",
    "# I might be wrong and Rosana can update this?Thanks \n",
    "!apt install -q chromium-chromedriver\n",
    "\n",
    "\n",
    "!pip install -q selenium\n"
   ]
  },
  {
   "cell_type": "code",
   "execution_count": 2,
   "metadata": {},
   "outputs": [
    {
     "name": "stdout",
     "output_type": "stream",
     "text": [
      "cp: '/usr/lib/chromium-browser/chromedriver' and '/usr/bin/chromedriver' are the same file\r\n"
     ]
    }
   ],
   "source": [
    "!cp /usr/lib/chromium-browser/chromedriver /usr/bin\n"
   ]
  },
  {
   "cell_type": "code",
   "execution_count": 3,
   "metadata": {},
   "outputs": [],
   "source": [
    "\n",
    "import sys\n",
    "sys.path.insert(0,'/usr/lib/chromium-browser/chromedriver')"
   ]
  },
  {
   "cell_type": "code",
   "execution_count": 4,
   "metadata": {
    "id": "e79l_JW3VGwA"
   },
   "outputs": [],
   "source": [
    "\n",
    "import world_bank_data as wb\n",
    "import pandas as pd\n",
    "import re\n",
    "import time\n",
    "#from google.colab import files"
   ]
  },
  {
   "cell_type": "markdown",
   "metadata": {
    "id": "dVRsVeCzstNG"
   },
   "source": [
    "## Auxiliary functions\n",
    "\n",
    "* `wb_interface_search(indicator)`: Returns indicator's ID  \n",
    "* `indicators_dict(indicators)`: Returns dictionary of indicators and respective ID\n",
    "* `build_wb_df(ind_dict)`: Returns dataframe with all selected indicators \n",
    "* `filter_wb(df, years, countries):` Returns filtered dataframe for specific `years` and `countries`\n"
   ]
  },
  {
   "cell_type": "code",
   "execution_count": 5,
   "metadata": {
    "id": "tWR_DJbEVbA9"
   },
   "outputs": [],
   "source": [
    "#Search \n",
    "\n",
    "from selenium import webdriver\n",
    "from selenium.webdriver.common.keys import Keys\n",
    "import re\n",
    "import time\n",
    "\n",
    "\n",
    "def wb_interface_search(indicator):\n",
    "  '''Returns indicator's ID \n",
    "  `indicator`: world bank indicator as string \n",
    "  Example: 'Access to electricity, rural (% of rural population)'  \n",
    "  '''\n",
    "\n",
    "  t_start = time.time()\n",
    "  options = webdriver.ChromeOptions()\n",
    "  options.add_argument('--headless')\n",
    "  options.add_argument('--no-sandbox')\n",
    "  options.add_argument('--disable-dev-shm-usage')\n",
    "  options.add_argument(\"--disable-notifications\")\n",
    "\n",
    "  weblink = 'https://data.worldbank.org/indicator?tab=all'\n",
    "  #wd = webdriver.Chrome('/home/nandutu/Documents/chromedriver/chromedriver',options=options)\n",
    "  wd = webdriver.Chrome('chromedriver',options=options)\n",
    "\n",
    "  t_end = time.time()\n",
    "  print('Initialized web driver in {} s'.format(t_end - t_start))\n",
    "\n",
    "  t_start = time.time()\n",
    "  wd.get(weblink)\n",
    "  t_end = time.time()\n",
    "  print('Downloaded website in {} s'.format(t_end - t_start))\n",
    "\n",
    "  t_start = time.time()\n",
    "  search_key = wd.find_element_by_xpath(\"//input[@id='overviewSearch']\")\n",
    "  time.sleep(5)    #Need to let the page load completely, otherwise the search result wont be narrowed down\n",
    "  search_key.send_keys(indicator + Keys.RETURN + Keys.ENTER)\n",
    "  t_end = time.time()\n",
    "  print('Searched key in {} s'.format(t_end - t_start))\n",
    "\n",
    "  t_start = time.time()\n",
    "  all_results = wd.find_elements_by_xpath('//section[@class=\"nav-item\"]/*/li/a')\n",
    "  try:\n",
    "      expected_result = all_results[0]   #Assume first result is the most relevant one, since we copied exact title\n",
    "      link= expected_result.get_attribute(\"href\")\n",
    "      code = re.search('([A-Z].*)\\?', link)[0].replace('?','')\n",
    "      t_end = time.time()\n",
    "      print('Found result in {} s'.format(t_end - t_start))\n",
    "\n",
    "      return code\n",
    "  except:\n",
    "      return ''\n",
    "\n",
    "def indicators_dict(indicators):\n",
    "  '''Returns dictionary of indicators and respective ID\n",
    "  `indicators`: list of world bank indicator as string \n",
    "  Example: ['Access to electricity, rural (% of rural population)', 'Arable land (% of land area)']  \n",
    "  '''\n",
    "\n",
    "  t_start = time.time()\n",
    "  \n",
    "  key = map(wb_interface_search, indicators)\n",
    "\n",
    "  ind_dict = {}  \n",
    "\n",
    "  for ind, i in zip(indicators, key):\n",
    "    ind_dict[ind]= i\n",
    "\n",
    "  t_end = time.time()\n",
    "  print('Did everything in {} s'.format(t_end - t_start))\n",
    "\n",
    "\n",
    "  return(ind_dict)\n",
    "\n"
   ]
  },
  {
   "cell_type": "code",
   "execution_count": 6,
   "metadata": {
    "colab": {
     "base_uri": "https://localhost:8080/"
    },
    "id": "8RoD0DnWr75F",
    "outputId": "a449696e-6225-4a1a-f75f-23470c761c47"
   },
   "outputs": [
    {
     "ename": "SessionNotCreatedException",
     "evalue": "Message: session not created: This version of ChromeDriver only supports Chrome version 90\nCurrent browser version is 87.0.4280.141 with binary path /usr/bin/google-chrome\nStacktrace:\n#0 0x56060c66c9b9 <unknown>\n",
     "output_type": "error",
     "traceback": [
      "\u001b[0;31m---------------------------------------------------------------------------\u001b[0m",
      "\u001b[0;31mSessionNotCreatedException\u001b[0m                Traceback (most recent call last)",
      "\u001b[0;32m<ipython-input-6-71b0ecb39c77>\u001b[0m in \u001b[0;36m<module>\u001b[0;34m\u001b[0m\n\u001b[1;32m      4\u001b[0m               'Urban population growth (annual %)']\n\u001b[1;32m      5\u001b[0m \u001b[0;34m\u001b[0m\u001b[0m\n\u001b[0;32m----> 6\u001b[0;31m \u001b[0mind_dict\u001b[0m\u001b[0;34m=\u001b[0m \u001b[0mindicators_dict\u001b[0m\u001b[0;34m(\u001b[0m\u001b[0mindicators\u001b[0m\u001b[0;34m)\u001b[0m\u001b[0;34m\u001b[0m\u001b[0m\n\u001b[0m",
      "\u001b[0;32m<ipython-input-5-28254bc59701>\u001b[0m in \u001b[0;36mindicators_dict\u001b[0;34m(indicators)\u001b[0m\n\u001b[1;32m     64\u001b[0m   \u001b[0mind_dict\u001b[0m \u001b[0;34m=\u001b[0m \u001b[0;34m{\u001b[0m\u001b[0;34m}\u001b[0m\u001b[0;34m\u001b[0m\u001b[0m\n\u001b[1;32m     65\u001b[0m \u001b[0;34m\u001b[0m\u001b[0m\n\u001b[0;32m---> 66\u001b[0;31m   \u001b[0;32mfor\u001b[0m \u001b[0mind\u001b[0m\u001b[0;34m,\u001b[0m \u001b[0mi\u001b[0m \u001b[0;32min\u001b[0m \u001b[0mzip\u001b[0m\u001b[0;34m(\u001b[0m\u001b[0mindicators\u001b[0m\u001b[0;34m,\u001b[0m \u001b[0mkey\u001b[0m\u001b[0;34m)\u001b[0m\u001b[0;34m:\u001b[0m\u001b[0;34m\u001b[0m\u001b[0m\n\u001b[0m\u001b[1;32m     67\u001b[0m     \u001b[0mind_dict\u001b[0m\u001b[0;34m[\u001b[0m\u001b[0mind\u001b[0m\u001b[0;34m]\u001b[0m\u001b[0;34m=\u001b[0m \u001b[0mi\u001b[0m\u001b[0;34m\u001b[0m\u001b[0m\n\u001b[1;32m     68\u001b[0m \u001b[0;34m\u001b[0m\u001b[0m\n",
      "\u001b[0;32m<ipython-input-5-28254bc59701>\u001b[0m in \u001b[0;36mwb_interface_search\u001b[0;34m(indicator)\u001b[0m\n\u001b[1;32m     22\u001b[0m   \u001b[0mweblink\u001b[0m \u001b[0;34m=\u001b[0m \u001b[0;34m'https://data.worldbank.org/indicator?tab=all'\u001b[0m\u001b[0;34m\u001b[0m\u001b[0m\n\u001b[1;32m     23\u001b[0m   \u001b[0;31m#wd = webdriver.Chrome('/home/nandutu/Documents/chromedriver/chromedriver',options=options)\u001b[0m\u001b[0;34m\u001b[0m\u001b[0;34m\u001b[0m\u001b[0m\n\u001b[0;32m---> 24\u001b[0;31m   \u001b[0mwd\u001b[0m \u001b[0;34m=\u001b[0m \u001b[0mwebdriver\u001b[0m\u001b[0;34m.\u001b[0m\u001b[0mChrome\u001b[0m\u001b[0;34m(\u001b[0m\u001b[0;34m'chromedriver'\u001b[0m\u001b[0;34m,\u001b[0m\u001b[0moptions\u001b[0m\u001b[0;34m=\u001b[0m\u001b[0moptions\u001b[0m\u001b[0;34m)\u001b[0m\u001b[0;34m\u001b[0m\u001b[0m\n\u001b[0m\u001b[1;32m     25\u001b[0m \u001b[0;34m\u001b[0m\u001b[0m\n\u001b[1;32m     26\u001b[0m   \u001b[0mt_end\u001b[0m \u001b[0;34m=\u001b[0m \u001b[0mtime\u001b[0m\u001b[0;34m.\u001b[0m\u001b[0mtime\u001b[0m\u001b[0;34m(\u001b[0m\u001b[0;34m)\u001b[0m\u001b[0;34m\u001b[0m\u001b[0m\n",
      "\u001b[0;32m~/anaconda3/lib/python3.7/site-packages/selenium/webdriver/chrome/webdriver.py\u001b[0m in \u001b[0;36m__init__\u001b[0;34m(self, executable_path, port, options, service_args, desired_capabilities, service_log_path, chrome_options, service, keep_alive)\u001b[0m\n\u001b[1;32m     71\u001b[0m                                         \u001b[0mport\u001b[0m\u001b[0;34m,\u001b[0m \u001b[0moptions\u001b[0m\u001b[0;34m,\u001b[0m\u001b[0;34m\u001b[0m\u001b[0m\n\u001b[1;32m     72\u001b[0m                                         \u001b[0mservice_args\u001b[0m\u001b[0;34m,\u001b[0m \u001b[0mdesired_capabilities\u001b[0m\u001b[0;34m,\u001b[0m\u001b[0;34m\u001b[0m\u001b[0m\n\u001b[0;32m---> 73\u001b[0;31m                                         service_log_path, service, keep_alive)\n\u001b[0m",
      "\u001b[0;32m~/anaconda3/lib/python3.7/site-packages/selenium/webdriver/chromium/webdriver.py\u001b[0m in \u001b[0;36m__init__\u001b[0;34m(self, browser_name, vendor_prefix, port, options, service_args, desired_capabilities, service_log_path, service, keep_alive)\u001b[0m\n\u001b[1;32m     97\u001b[0m                     \u001b[0mbrowser_name\u001b[0m\u001b[0;34m=\u001b[0m\u001b[0mbrowser_name\u001b[0m\u001b[0;34m,\u001b[0m \u001b[0mvendor_prefix\u001b[0m\u001b[0;34m=\u001b[0m\u001b[0mvendor_prefix\u001b[0m\u001b[0;34m,\u001b[0m\u001b[0;34m\u001b[0m\u001b[0m\n\u001b[1;32m     98\u001b[0m                     keep_alive=keep_alive, ignore_proxy=_ignore_proxy),\n\u001b[0;32m---> 99\u001b[0;31m                 options=options)\n\u001b[0m\u001b[1;32m    100\u001b[0m         \u001b[0;32mexcept\u001b[0m \u001b[0mException\u001b[0m\u001b[0;34m:\u001b[0m\u001b[0;34m\u001b[0m\u001b[0m\n\u001b[1;32m    101\u001b[0m             \u001b[0mself\u001b[0m\u001b[0;34m.\u001b[0m\u001b[0mquit\u001b[0m\u001b[0;34m(\u001b[0m\u001b[0;34m)\u001b[0m\u001b[0;34m\u001b[0m\u001b[0m\n",
      "\u001b[0;32m~/anaconda3/lib/python3.7/site-packages/selenium/webdriver/remote/webdriver.py\u001b[0m in \u001b[0;36m__init__\u001b[0;34m(self, command_executor, desired_capabilities, browser_profile, proxy, keep_alive, file_detector, options)\u001b[0m\n\u001b[1;32m    266\u001b[0m         \u001b[0mself\u001b[0m\u001b[0;34m.\u001b[0m\u001b[0mfile_detector\u001b[0m \u001b[0;34m=\u001b[0m \u001b[0mfile_detector\u001b[0m \u001b[0;32mor\u001b[0m \u001b[0mLocalFileDetector\u001b[0m\u001b[0;34m(\u001b[0m\u001b[0;34m)\u001b[0m\u001b[0;34m\u001b[0m\u001b[0m\n\u001b[1;32m    267\u001b[0m         \u001b[0mself\u001b[0m\u001b[0;34m.\u001b[0m\u001b[0mstart_client\u001b[0m\u001b[0;34m(\u001b[0m\u001b[0;34m)\u001b[0m\u001b[0;34m\u001b[0m\u001b[0m\n\u001b[0;32m--> 268\u001b[0;31m         \u001b[0mself\u001b[0m\u001b[0;34m.\u001b[0m\u001b[0mstart_session\u001b[0m\u001b[0;34m(\u001b[0m\u001b[0mcapabilities\u001b[0m\u001b[0;34m,\u001b[0m \u001b[0mbrowser_profile\u001b[0m\u001b[0;34m)\u001b[0m\u001b[0;34m\u001b[0m\u001b[0m\n\u001b[0m\u001b[1;32m    269\u001b[0m \u001b[0;34m\u001b[0m\u001b[0m\n\u001b[1;32m    270\u001b[0m     \u001b[0;32mdef\u001b[0m \u001b[0m__repr__\u001b[0m\u001b[0;34m(\u001b[0m\u001b[0mself\u001b[0m\u001b[0;34m)\u001b[0m\u001b[0;34m:\u001b[0m\u001b[0;34m\u001b[0m\u001b[0m\n",
      "\u001b[0;32m~/anaconda3/lib/python3.7/site-packages/selenium/webdriver/remote/webdriver.py\u001b[0m in \u001b[0;36mstart_session\u001b[0;34m(self, capabilities, browser_profile)\u001b[0m\n\u001b[1;32m    357\u001b[0m         parameters = {\"capabilities\": w3c_caps,\n\u001b[1;32m    358\u001b[0m                       \"desiredCapabilities\": capabilities}\n\u001b[0;32m--> 359\u001b[0;31m         \u001b[0mresponse\u001b[0m \u001b[0;34m=\u001b[0m \u001b[0mself\u001b[0m\u001b[0;34m.\u001b[0m\u001b[0mexecute\u001b[0m\u001b[0;34m(\u001b[0m\u001b[0mCommand\u001b[0m\u001b[0;34m.\u001b[0m\u001b[0mNEW_SESSION\u001b[0m\u001b[0;34m,\u001b[0m \u001b[0mparameters\u001b[0m\u001b[0;34m)\u001b[0m\u001b[0;34m\u001b[0m\u001b[0m\n\u001b[0m\u001b[1;32m    360\u001b[0m         \u001b[0;32mif\u001b[0m \u001b[0;34m'sessionId'\u001b[0m \u001b[0;32mnot\u001b[0m \u001b[0;32min\u001b[0m \u001b[0mresponse\u001b[0m\u001b[0;34m:\u001b[0m\u001b[0;34m\u001b[0m\u001b[0m\n\u001b[1;32m    361\u001b[0m             \u001b[0mresponse\u001b[0m \u001b[0;34m=\u001b[0m \u001b[0mresponse\u001b[0m\u001b[0;34m[\u001b[0m\u001b[0;34m'value'\u001b[0m\u001b[0;34m]\u001b[0m\u001b[0;34m\u001b[0m\u001b[0m\n",
      "\u001b[0;32m~/anaconda3/lib/python3.7/site-packages/selenium/webdriver/remote/webdriver.py\u001b[0m in \u001b[0;36mexecute\u001b[0;34m(self, driver_command, params)\u001b[0m\n\u001b[1;32m    422\u001b[0m         \u001b[0mresponse\u001b[0m \u001b[0;34m=\u001b[0m \u001b[0mself\u001b[0m\u001b[0;34m.\u001b[0m\u001b[0mcommand_executor\u001b[0m\u001b[0;34m.\u001b[0m\u001b[0mexecute\u001b[0m\u001b[0;34m(\u001b[0m\u001b[0mdriver_command\u001b[0m\u001b[0;34m,\u001b[0m \u001b[0mparams\u001b[0m\u001b[0;34m)\u001b[0m\u001b[0;34m\u001b[0m\u001b[0m\n\u001b[1;32m    423\u001b[0m         \u001b[0;32mif\u001b[0m \u001b[0mresponse\u001b[0m\u001b[0;34m:\u001b[0m\u001b[0;34m\u001b[0m\u001b[0m\n\u001b[0;32m--> 424\u001b[0;31m             \u001b[0mself\u001b[0m\u001b[0;34m.\u001b[0m\u001b[0merror_handler\u001b[0m\u001b[0;34m.\u001b[0m\u001b[0mcheck_response\u001b[0m\u001b[0;34m(\u001b[0m\u001b[0mresponse\u001b[0m\u001b[0;34m)\u001b[0m\u001b[0;34m\u001b[0m\u001b[0m\n\u001b[0m\u001b[1;32m    425\u001b[0m             response['value'] = self._unwrap_value(\n\u001b[1;32m    426\u001b[0m                 response.get('value', None))\n",
      "\u001b[0;32m~/anaconda3/lib/python3.7/site-packages/selenium/webdriver/remote/errorhandler.py\u001b[0m in \u001b[0;36mcheck_response\u001b[0;34m(self, response)\u001b[0m\n\u001b[1;32m    245\u001b[0m                 \u001b[0malert_text\u001b[0m \u001b[0;34m=\u001b[0m \u001b[0mvalue\u001b[0m\u001b[0;34m[\u001b[0m\u001b[0;34m'alert'\u001b[0m\u001b[0;34m]\u001b[0m\u001b[0;34m.\u001b[0m\u001b[0mget\u001b[0m\u001b[0;34m(\u001b[0m\u001b[0;34m'text'\u001b[0m\u001b[0;34m)\u001b[0m\u001b[0;34m\u001b[0m\u001b[0m\n\u001b[1;32m    246\u001b[0m             \u001b[0;32mraise\u001b[0m \u001b[0mexception_class\u001b[0m\u001b[0;34m(\u001b[0m\u001b[0mmessage\u001b[0m\u001b[0;34m,\u001b[0m \u001b[0mscreen\u001b[0m\u001b[0;34m,\u001b[0m \u001b[0mstacktrace\u001b[0m\u001b[0;34m,\u001b[0m \u001b[0malert_text\u001b[0m\u001b[0;34m)\u001b[0m  \u001b[0;31m# type: ignore[call-arg]  # mypy is not smart enough here\u001b[0m\u001b[0;34m\u001b[0m\u001b[0m\n\u001b[0;32m--> 247\u001b[0;31m         \u001b[0;32mraise\u001b[0m \u001b[0mexception_class\u001b[0m\u001b[0;34m(\u001b[0m\u001b[0mmessage\u001b[0m\u001b[0;34m,\u001b[0m \u001b[0mscreen\u001b[0m\u001b[0;34m,\u001b[0m \u001b[0mstacktrace\u001b[0m\u001b[0;34m)\u001b[0m\u001b[0;34m\u001b[0m\u001b[0m\n\u001b[0m\u001b[1;32m    248\u001b[0m \u001b[0;34m\u001b[0m\u001b[0m\n\u001b[1;32m    249\u001b[0m     \u001b[0;32mdef\u001b[0m \u001b[0m_value_or_default\u001b[0m\u001b[0;34m(\u001b[0m\u001b[0mself\u001b[0m\u001b[0;34m,\u001b[0m \u001b[0mobj\u001b[0m\u001b[0;34m:\u001b[0m \u001b[0mMapping\u001b[0m\u001b[0;34m[\u001b[0m\u001b[0m_KT\u001b[0m\u001b[0;34m,\u001b[0m \u001b[0m_VT\u001b[0m\u001b[0;34m]\u001b[0m\u001b[0;34m,\u001b[0m \u001b[0mkey\u001b[0m\u001b[0;34m:\u001b[0m \u001b[0m_KT\u001b[0m\u001b[0;34m,\u001b[0m \u001b[0mdefault\u001b[0m\u001b[0;34m:\u001b[0m \u001b[0m_VT\u001b[0m\u001b[0;34m)\u001b[0m \u001b[0;34m->\u001b[0m \u001b[0m_VT\u001b[0m\u001b[0;34m:\u001b[0m\u001b[0;34m\u001b[0m\u001b[0m\n",
      "\u001b[0;31mSessionNotCreatedException\u001b[0m: Message: session not created: This version of ChromeDriver only supports Chrome version 90\nCurrent browser version is 87.0.4280.141 with binary path /usr/bin/google-chrome\nStacktrace:\n#0 0x56060c66c9b9 <unknown>\n"
     ]
    }
   ],
   "source": [
    "indicators = ['GDP (current US$)', ' GDP growth (annual %)', 'Population growth (annual %)',\n",
    "             'Population in largest city','Population, total', 'Population density (people per sq. km of land area)',\n",
    "              'Rural population (% of total population)', 'Rural population',\n",
    "              'Urban population growth (annual %)']\n",
    "\n",
    "ind_dict= indicators_dict(indicators)"
   ]
  },
  {
   "cell_type": "code",
   "execution_count": 7,
   "metadata": {
    "id": "XL-4Pg4XVeGT"
   },
   "outputs": [],
   "source": [
    "# Extract data\n",
    "\n",
    "def build_wb_df(ind_dict):\n",
    "  '''\n",
    "   Returns dataframe with all selected indicators \n",
    "   `ind_dict`: dictionary of indicators and respective IDs \n",
    "   Example: {'Access to electricity, rural (% of rural population)': 'EG.ELC.ACCS.RU.ZS', 'Arable land (% of land area)': 'AG.LND.ARBL.ZS'}\n",
    "  '''\n",
    "\n",
    "\n",
    "  data_frame = pd.DataFrame()\n",
    "  df_set, title_set = [],[]\n",
    "\n",
    "  count = 0\n",
    "  for key,value in ind_dict.items():\n",
    "    #print(value)\n",
    "    #'date' parameter seems to be able to select one year only. So currently extracting all data available\n",
    "    time.sleep(1)\n",
    "    #print(value)\n",
    "\n",
    "    df = wb.get_series(value).to_frame()    \n",
    "    df = df.reset_index()\n",
    "\n",
    "    # For checking individual dataset\n",
    "    df_set.append(df)\n",
    "    title_set.append(df['Series'][0])\n",
    "    df = df.drop(['Series'], axis=1)\n",
    "\n",
    "    if count > 0:\n",
    "      data_frame = pd.merge(data_frame, df, on = ['Country','Year'], how = 'outer')\n",
    "    else:\n",
    "      data_frame = df\n",
    "\n",
    "    count +=1\n",
    "\n",
    "  inv_map = {v: k for k, v in ind_dict.items()}\n",
    "  i = 2\n",
    "  for k,v in inv_map.items():\n",
    "    data_frame = data_frame.rename(columns={data_frame.columns[i]: v})\n",
    "    i+=1\n",
    "  return(data_frame)\n",
    "    \n"
   ]
  },
  {
   "cell_type": "code",
   "execution_count": 8,
   "metadata": {
    "id": "xsVuMpBzxr8p"
   },
   "outputs": [
    {
     "ename": "NameError",
     "evalue": "name 'ind_dict' is not defined",
     "output_type": "error",
     "traceback": [
      "\u001b[0;31m---------------------------------------------------------------------------\u001b[0m",
      "\u001b[0;31mNameError\u001b[0m                                 Traceback (most recent call last)",
      "\u001b[0;32m<ipython-input-8-a0ab0d29a250>\u001b[0m in \u001b[0;36m<module>\u001b[0;34m\u001b[0m\n\u001b[0;32m----> 1\u001b[0;31m \u001b[0mdf1\u001b[0m\u001b[0;34m=\u001b[0m \u001b[0mbuild_wb_df\u001b[0m\u001b[0;34m(\u001b[0m\u001b[0mind_dict\u001b[0m\u001b[0;34m)\u001b[0m\u001b[0;34m\u001b[0m\u001b[0m\n\u001b[0m",
      "\u001b[0;31mNameError\u001b[0m: name 'ind_dict' is not defined"
     ]
    }
   ],
   "source": [
    "df1= build_wb_df(ind_dict)"
   ]
  },
  {
   "cell_type": "code",
   "execution_count": 9,
   "metadata": {
    "id": "WdIUlk_VVdlb"
   },
   "outputs": [],
   "source": [
    "# Filtering year and countries\n",
    "\n",
    "\n",
    "years = list(range(1960,2021))\n",
    "countries = ['Peru', 'China', 'Costa Rica', 'Afghanistan', 'Bolivia', 'Panama', \n",
    "             'Greece', 'New Zealand', 'Haiti', 'Mexico', 'Argentina', 'Kyrgyzstan', \n",
    "             'Iran', 'Venezuela', 'Philippines', 'Japan', 'Indonesia', 'Guatemala', \n",
    "             'Papua New Guinea', 'Solomon Islands', 'Tajikistan', 'Bhutan', 'Chile', \n",
    "             'Myanmar', 'Ethiopia', 'Malawi', 'Colombia', 'Russia', \n",
    "             'Democratic Republic of the Congo', 'Taiwan', 'Ecuador', \n",
    "             'Vanuatu', 'United States of America', 'United Republic of Tanzania', \n",
    "             'India', 'Georgia', 'Albania', 'Namibia', 'Turkey', 'Pakistan', 'Iraq', \n",
    "             'Honduras', 'Kazakhstan', 'Brazil', 'Turkmenistan', 'North Macedonia', \n",
    "             'Saudi Arabia', 'Uzbekistan', 'Romania', 'Italy', 'Canada', 'South Africa', \n",
    "             'Dominican Republic', 'Nepal', 'East Timor', 'Antarctica', 'Iceland', \n",
    "             'Malaysia', 'Lebanon', 'Rwanda', 'Mozambique', 'Mongolia', 'Nicaragua', \n",
    "             'Bangladesh', 'France', 'Azerbaijan', 'Laos', 'El Salvador', 'Zambia', \n",
    "             'Uganda', 'Algeria', 'Bosnia and Herzegovina', 'Jamaica', 'Dominica', \n",
    "             'Morocco', 'Trinidad and Tobago', 'Slovenia', 'Jordan', 'Djibouti', 'Fiji', \n",
    "             'Tunisia', 'Kosovo', 'United Arab Emirates', 'Spain', 'Australia', \n",
    "             'Austria', 'Poland', 'Cyprus', 'Republic of Serbia', 'Denmark',\n",
    "             'Republic of the Congo', 'Syria', 'Croatia', 'Egypt', 'Thailand', \n",
    "             'Sudan', 'Eritrea', 'Madagascar', 'Belgium', 'South Sudan', 'Burundi', \n",
    "             'Montenegro', 'Somaliland', 'Tonga', 'Germany', 'Bulgaria', 'Switzerland', \n",
    "             'Gabon', 'United Kingdom', 'Portugal', 'Zimbabwe', 'Antigua and Barbuda', \n",
    "             'Libya', 'Vietnam', 'Federated States of Micronesia', 'South Korea', \n",
    "             'Botswana', 'Kashmir', 'Kenya', 'Angola', 'Paraguay', 'Armenia', 'Hungary', \n",
    "             'Israel', 'Norway', 'Guinea', 'Yemen', 'North Korea']\n",
    "\n",
    "\n",
    "def filter_wb(df, years, countries):\n",
    "  '''\n",
    "   Returns filtered dataframe for specific `years` and `countries`\n",
    "   `df`: dataframe returned by function `build_wb_df` \n",
    "   `years`: list of input years as strings. Example: ['2010', '2011']\n",
    "   `countries`: list of countries as strings. Example: ['Algeria', 'Angola'] \n",
    "  '''\n",
    "\n",
    "  mask_year = (df['Year'] == years[0])\n",
    "  for year in years[1:]:\n",
    "    mask_year = mask_year | (df['Year'] == year)\n",
    "  # mask_year = (df['Year'] == years[0]) | (df['Year'] == years[1]) | (df['Year'] == years[0])\n",
    "  mask_country = (df['Country'] == countries[0])\n",
    "  for country in countries[1:]:\n",
    "    mask_country = mask_country | (df['Country'] == country)\n",
    "  df = df[mask_year & mask_country]\n",
    "  return(df.reset_index())"
   ]
  },
  {
   "cell_type": "code",
   "execution_count": 10,
   "metadata": {
    "colab": {
     "base_uri": "https://localhost:8080/",
     "height": 639
    },
    "id": "jgdo3GPbVdSw",
    "outputId": "d72103dd-339c-48c2-c183-989b1c50fafb"
   },
   "outputs": [
    {
     "ename": "NameError",
     "evalue": "name 'df1' is not defined",
     "output_type": "error",
     "traceback": [
      "\u001b[0;31m---------------------------------------------------------------------------\u001b[0m",
      "\u001b[0;31mNameError\u001b[0m                                 Traceback (most recent call last)",
      "\u001b[0;32m<ipython-input-10-4bc654a1652a>\u001b[0m in \u001b[0;36m<module>\u001b[0;34m\u001b[0m\n\u001b[0;32m----> 1\u001b[0;31m \u001b[0mdf\u001b[0m \u001b[0;34m=\u001b[0m \u001b[0mfilter_wb\u001b[0m\u001b[0;34m(\u001b[0m\u001b[0mdf1\u001b[0m\u001b[0;34m,\u001b[0m \u001b[0myears\u001b[0m\u001b[0;34m,\u001b[0m \u001b[0mcountries\u001b[0m\u001b[0;34m)\u001b[0m\u001b[0;34m\u001b[0m\u001b[0m\n\u001b[0m\u001b[1;32m      2\u001b[0m \u001b[0;34m\u001b[0m\u001b[0m\n\u001b[1;32m      3\u001b[0m \u001b[0mdf\u001b[0m\u001b[0;34m.\u001b[0m\u001b[0mhead\u001b[0m\u001b[0;34m(\u001b[0m\u001b[0;36m20\u001b[0m\u001b[0;34m)\u001b[0m\u001b[0;34m\u001b[0m\u001b[0m\n",
      "\u001b[0;31mNameError\u001b[0m: name 'df1' is not defined"
     ]
    }
   ],
   "source": [
    "df = filter_wb(df1, years, countries)\n",
    "\n",
    "df.head(20)"
   ]
  },
  {
   "cell_type": "code",
   "execution_count": null,
   "metadata": {
    "id": "NLdSSAWRbIAs"
   },
   "outputs": [],
   "source": []
  }
 ],
 "metadata": {
  "colab": {
   "collapsed_sections": [],
   "name": "WBI-data-extraction.ipynb",
   "provenance": []
  },
  "interpreter": {
   "hash": "6333f2c5ad62eb4eb58eef6b274025650b7be62c09222bc30c3ae9b6a83463da"
  },
  "kernelspec": {
   "display_name": "Python 3",
   "language": "python",
   "name": "python3"
  },
  "language_info": {
   "codemirror_mode": {
    "name": "ipython",
    "version": 3
   },
   "file_extension": ".py",
   "mimetype": "text/x-python",
   "name": "python",
   "nbconvert_exporter": "python",
   "pygments_lexer": "ipython3",
   "version": "3.7.0"
  }
 },
 "nbformat": 4,
 "nbformat_minor": 2
}
